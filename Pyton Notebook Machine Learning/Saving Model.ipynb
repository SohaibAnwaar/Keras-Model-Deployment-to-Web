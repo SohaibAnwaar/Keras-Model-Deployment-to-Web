{
 "cells": [
  {
   "cell_type": "code",
   "execution_count": 47,
   "metadata": {},
   "outputs": [],
   "source": [
    "from sklearn.model_selection import RandomizedSearchCV\n",
    "\n",
    "import numpy as np # linear algebra\n",
    "import pandas as pd # data processing, CSV file I/O (e.g. pd.read_csv)\n",
    "\n",
    "from sklearn.model_selection import train_test_split\n",
    "from keras.utils import to_categorical \n",
    "\n",
    "\n",
    "from sklearn import ensemble\n",
    "\n",
    "import os\n",
    "\n",
    "# HBP\n",
    "data = pd.read_csv('hbp.txt', sep=\">\",header=None)\n",
    "sequences=data[0].dropna()\n",
    "labels=data[1].dropna()\n",
    "sequences.reset_index(drop=True, inplace=True)\n",
    "labels.reset_index(drop=True, inplace=True)\n",
    "list_of_series=[sequences.rename(\"sequences\"),labels.rename(\"Name\")]\n",
    "df_hbp = pd.concat(list_of_series, axis=1)\n",
    "df_hbp['label']='hbp'\n",
    "df_hbp.head()\n",
    "\n",
    "# not HBP\n",
    "data = pd.read_csv('non-hbp.txt', sep=\">\",header=None)\n",
    "sequences=data[0].dropna()\n",
    "labels=data[1].dropna()\n",
    "sequences.reset_index(drop=True, inplace=True)\n",
    "labels.reset_index(drop=True, inplace=True)\n",
    "list_of_series=[sequences.rename(\"sequences\"),labels.rename(\"Name\")]\n",
    "df_N_hbp = pd.concat(list_of_series, axis=1)\n",
    "df_N_hbp['label']='non-hbp'\n",
    "df_N_hbp.head()\n",
    "\n",
    "\n",
    "frames = [df_hbp,df_N_hbp]\n",
    "df=pd.concat(frames)\n",
    "df.head()\n",
    "\n",
    "from sklearn.preprocessing import LabelBinarizer\n",
    "import keras\n",
    "\n",
    "lb = LabelBinarizer()\n",
    "Y = lb.fit_transform(df.label)\n",
    "\n",
    "\n",
    "\n",
    "def frequencyVec(seq):\n",
    "    encoder = ['A', 'C', 'D', 'E', 'F', 'G', 'H', 'I', 'K', 'L', 'M', 'N', 'P', 'Q', 'R', 'S', 'T', 'V', 'W',\n",
    "               'Y']\n",
    "    fv = [0 for x in range(20)]\n",
    "    i = 0\n",
    "    for i in range(20):\n",
    "        fv[i - 1] = seq.count(encoder[i])\n",
    "    return fv\n",
    "X_frequencyVec=[]\n",
    "for i in df.sequences:\n",
    "    X_frequencyVec.append(frequencyVec(i))\n",
    "                      \n",
    "                      \n",
    "X_frequencyVec = np.asarray(X_frequencyVec)\n",
    "X_frequencyVec.shape\n",
    "                    \n",
    "X_train, X_test, y_train, y_test = train_test_split(X_frequencyVec, df.label, test_size=.3, random_state=0)\n",
    "clfBC=ensemble.BaggingClassifier()\n",
    "\n",
    "base_estimator=None\n",
    "n_estimators=30\n",
    "warm_start=True\n",
    "bootstrap=True\n",
    "bstlfy=ensemble.BaggingClassifier(base_estimator=base_estimator,n_estimators=n_estimators,warm_start=warm_start,bootstrap=bootstrap)\n",
    "bstlfy=bstlfy.fit(X_train, y_train)\n",
    "prediction=bstlfy.predict(X_test)\n",
    "\n"
   ]
  },
  {
   "cell_type": "code",
   "execution_count": 48,
   "metadata": {},
   "outputs": [
    {
     "name": "stdout",
     "output_type": "stream",
     "text": [
      "0.7297297297297297\n"
     ]
    }
   ],
   "source": [
    "import pickle\n",
    "filename = 'finalized_model.sav'\n",
    "pickle.dump(bstlfy, open(filename, 'wb'))\n",
    "loaded_model = pickle.load(open(filename, 'rb'))\n",
    "result = loaded_model.score(X_test, y_test)\n",
    "print(result)"
   ]
  },
  {
   "cell_type": "code",
   "execution_count": null,
   "metadata": {},
   "outputs": [],
   "source": []
  }
 ],
 "metadata": {
  "kernelspec": {
   "display_name": "Python 3",
   "language": "python",
   "name": "python3"
  }
 },
 "nbformat": 4,
 "nbformat_minor": 2
}
